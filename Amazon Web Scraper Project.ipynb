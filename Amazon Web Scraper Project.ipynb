{
 "cells": [
  {
   "cell_type": "code",
   "execution_count": 1,
   "id": "edff244d-c873-441b-a89c-9ca167985592",
   "metadata": {},
   "outputs": [],
   "source": [
    "#import libraries\n",
    "\n",
    "from bs4 import BeautifulSoup\n",
    "import requests\n",
    "import time\n",
    "import datetime\n",
    "\n",
    "import smtplib"
   ]
  },
  {
   "cell_type": "code",
   "execution_count": 17,
   "id": "0f38c218-eca4-4e4e-8e5d-42b8f9147da8",
   "metadata": {},
   "outputs": [
    {
     "name": "stdout",
     "output_type": "stream",
     "text": [
      "\n",
      "                  Fuda: While Alive Eat Sleep Code Geek Printed Half Sleeve Cotton T Shirt for Men & Women\n",
      "                 \n",
      "\n",
      "                    449\n",
      "                   \n"
     ]
    }
   ],
   "source": [
    "#connect to website\n",
    "\n",
    "url = 'https://www.amazon.in/Fuda-While-Printed-Sleeve-Cotton/dp/B0CY4P4FH1/ref=sr_1_13?crid=2H1Z82AWSEAWL&dib=eyJ2IjoiMSJ9.HNXFa4x3VOF4fui9b1qP0ja8EtzZj6I5nyfTJOnhSygbD66r_83pj_uPoZ0z2SHjDx7QHZgG8jHS7_0BUmNpNMNu8H5OsFEQ6-127ujhluj33LpTS8T7M4X2SlmaVvE6S95q2aU8d6fs6pQpRiGBqiAFuxm8vLuLOuGLiibEGqD6pdbaij2U94gDTTSmDXrTeeSuORrW0Ggml6nmQ8OFmyNBQ-Sx2C1teojEZm7CRI8oHVE4j6QR3Rm1yRH-VRNu0-zFuXbl6IWC--0He0-M2ZeBc6V8ElDcS1cL1Qjtbs0.uY-ZasxDvP-vFxoy3x_J8uyns8uj6Kn5jVb7aNR2ku0&dib_tag=se&keywords=data%2Banalyst%2Btshirt&qid=1759330648&sprefix=data%2Banalyst%2Caps%2C392&sr=8-13&th=1&psc=1'\n",
    "\n",
    "headers = {\"User-Agent\": \"Mozilla/5.0 (Windows NT 10.0; Win64; x64) AppleWebKit/537.36 (KHTML, like Gecko) Chrome/140.0.0.0 Safari/537.36\"}\n",
    "\n",
    "page = requests.get(url, headers=headers)\n",
    "\n",
    "soup1 = BeautifulSoup(page.content, \"html.parser\")\n",
    "\n",
    "soup2 = BeautifulSoup(soup1.prettify(), 'html.parser')\n",
    "\n",
    "title = soup2.find(id='productTitle').get_text()\n",
    "\n",
    "price = soup2.find(class_='a-price-whole').get_text()\n",
    "\n",
    "print(title)\n",
    "print(price)\n",
    "\n"
   ]
  },
  {
   "cell_type": "code",
   "execution_count": 20,
   "id": "94ab5e43-4fb9-482e-8ee9-119b55268c26",
   "metadata": {},
   "outputs": [
    {
     "name": "stdout",
     "output_type": "stream",
     "text": [
      "Fuda: While Alive Eat Sleep Code Geek Printed Half Sleeve Cotton T Shirt for Men & Women\n",
      "449\n"
     ]
    }
   ],
   "source": [
    "price = price.strip()\n",
    "title = title.strip()\n",
    "\n",
    "print(title)\n",
    "print(price)"
   ]
  },
  {
   "cell_type": "code",
   "execution_count": 27,
   "id": "9fcb83c9-004d-4a10-abe4-778ee72be8ec",
   "metadata": {},
   "outputs": [
    {
     "name": "stdout",
     "output_type": "stream",
     "text": [
      "2025-10-01\n"
     ]
    }
   ],
   "source": [
    "import datetime\n",
    "\n",
    "today = datetime.date.today()\n",
    "\n",
    "print(today)"
   ]
  },
  {
   "cell_type": "code",
   "execution_count": 29,
   "id": "3c63b3f5-b30a-4146-a232-8c2c7ab613b6",
   "metadata": {},
   "outputs": [],
   "source": [
    "import csv\n",
    "\n",
    "header = ['Title', 'Price','Date']\n",
    "data = [title,price,today]\n",
    "\n",
    "#with open('AmazonWebScraperDataset.csv', 'w', newline='', encoding='UTF8') as f:\n",
    "    #writer = csv.writer(f)\n",
    "    #writer.writerow(header)\n",
    "    #writer.writerow(data)"
   ]
  },
  {
   "cell_type": "code",
   "execution_count": 37,
   "id": "fae8f44e-1623-49ea-8239-710e04d95fd4",
   "metadata": {},
   "outputs": [
    {
     "name": "stdout",
     "output_type": "stream",
     "text": [
      "                                               Title  Price        Date\n",
      "0  Fuda: While Alive Eat Sleep Code Geek Printed ...    449  2025-10-01\n",
      "1  Fuda: While Alive Eat Sleep Code Geek Printed ...    449  2025-10-01\n",
      "2  Fuda: While Alive Eat Sleep Code Geek Printed ...    449  2025-10-01\n",
      "3  Fuda: While Alive Eat Sleep Code Geek Printed ...    449  2025-10-01\n",
      "4  Fuda: While Alive Eat Sleep Code Geek Printed ...    449  2025-10-01\n"
     ]
    }
   ],
   "source": [
    "import pandas as pd\n",
    "\n",
    "df = pd.read_csv(r\"C:\\Users\\Lenovo\\AmazonWebScraperDataset.csv\")\n",
    "\n",
    "print(df)"
   ]
  },
  {
   "cell_type": "code",
   "execution_count": 36,
   "id": "7a9b562f-3743-4d19-b082-48c3930c69aa",
   "metadata": {},
   "outputs": [],
   "source": [
    "#Now we are appending data to the csv\n",
    "\n",
    "with open('AmazonWebScraperDataset.csv', 'a+', newline='', encoding='UTF8') as f:\n",
    "    writer = csv.writer(f)\n",
    "    writer.writerow(data)"
   ]
  },
  {
   "cell_type": "code",
   "execution_count": 38,
   "id": "79f13d7c-c3b0-4a17-a77b-108a6a827bf5",
   "metadata": {},
   "outputs": [],
   "source": [
    "\n",
    "def check_price():\n",
    "    url = 'https://www.amazon.in/Fuda-While-Printed-Sleeve-Cotton/dp/B0CY4P4FH1/ref=sr_1_13?crid=2H1Z82AWSEAWL&dib=eyJ2IjoiMSJ9.HNXFa4x3VOF4fui9b1qP0ja8EtzZj6I5nyfTJOnhSygbD66r_83pj_uPoZ0z2SHjDx7QHZgG8jHS7_0BUmNpNMNu8H5OsFEQ6-127ujhluj33LpTS8T7M4X2SlmaVvE6S95q2aU8d6fs6pQpRiGBqiAFuxm8vLuLOuGLiibEGqD6pdbaij2U94gDTTSmDXrTeeSuORrW0Ggml6nmQ8OFmyNBQ-Sx2C1teojEZm7CRI8oHVE4j6QR3Rm1yRH-VRNu0-zFuXbl6IWC--0He0-M2ZeBc6V8ElDcS1cL1Qjtbs0.uY-ZasxDvP-vFxoy3x_J8uyns8uj6Kn5jVb7aNR2ku0&dib_tag=se&keywords=data%2Banalyst%2Btshirt&qid=1759330648&sprefix=data%2Banalyst%2Caps%2C392&sr=8-13&th=1&psc=1'\n",
    "\n",
    "    headers = {\"User-Agent\": \"Mozilla/5.0 (Windows NT 10.0; Win64; x64) AppleWebKit/537.36 (KHTML, like Gecko) Chrome/140.0.0.0 Safari/537.36\"}\n",
    "\n",
    "    page = requests.get(url, headers=headers)\n",
    "\n",
    "    soup1 = BeautifulSoup(page.content, \"html.parser\")\n",
    "\n",
    "    soup2 = BeautifulSoup(soup1.prettify(), 'html.parser')\n",
    "\n",
    "    title = soup2.find(id='productTitle').get_text()\n",
    "\n",
    "    price = soup2.find(class_='a-price-whole').get_text()\n",
    "\n",
    "    price = price.strip()\n",
    "    title = title.strip()\n",
    "\n",
    "    import datetime\n",
    "\n",
    "    today = datetime.date.today()\n",
    "\n",
    "    print(today)\n",
    "\n",
    "    import csv\n",
    "\n",
    "    header = ['Title', 'Price','Date']\n",
    "    data = [title,price,today]\n",
    "    \n",
    "    with open('AmazonWebScraperDataset.csv', 'a+', newline='', encoding='UTF8') as f:\n",
    "        writer = csv.writer(f)\n",
    "        writer.writerow(data)\n"
   ]
  },
  {
   "cell_type": "code",
   "execution_count": null,
   "id": "513b5ddc-49c6-47e3-8c08-0e1be54d3ca2",
   "metadata": {},
   "outputs": [
    {
     "name": "stdout",
     "output_type": "stream",
     "text": [
      "2025-10-01\n"
     ]
    }
   ],
   "source": [
    "while(True):\n",
    "    check_price()\n",
    "    time.sleep(86400)"
   ]
  },
  {
   "cell_type": "code",
   "execution_count": 40,
   "id": "fcec4989-9195-446e-b5d6-5f6b4e8bf92c",
   "metadata": {},
   "outputs": [
    {
     "name": "stdout",
     "output_type": "stream",
     "text": [
      "                                               Title  Price        Date\n",
      "0  Fuda: While Alive Eat Sleep Code Geek Printed ...    449  2025-10-01\n",
      "1  Fuda: While Alive Eat Sleep Code Geek Printed ...    449  2025-10-01\n",
      "2  Fuda: While Alive Eat Sleep Code Geek Printed ...    449  2025-10-01\n",
      "3  Fuda: While Alive Eat Sleep Code Geek Printed ...    449  2025-10-01\n",
      "4  Fuda: While Alive Eat Sleep Code Geek Printed ...    449  2025-10-01\n",
      "5  Fuda: While Alive Eat Sleep Code Geek Printed ...    449  2025-10-01\n",
      "6  Fuda: While Alive Eat Sleep Code Geek Printed ...    449  2025-10-01\n",
      "7  Fuda: While Alive Eat Sleep Code Geek Printed ...    449  2025-10-01\n"
     ]
    }
   ],
   "source": [
    "import pandas as pd\n",
    "\n",
    "df = pd.read_csv(r\"C:\\Users\\Lenovo\\AmazonWebScraperDataset.csv\")\n",
    "\n",
    "print(df)"
   ]
  },
  {
   "cell_type": "code",
   "execution_count": null,
   "id": "d674864e-5f79-4682-ae05-a8599d90d2ba",
   "metadata": {},
   "outputs": [],
   "source": []
  },
  {
   "cell_type": "code",
   "execution_count": null,
   "id": "5890a849-424c-4d2a-95df-2519067a0326",
   "metadata": {},
   "outputs": [],
   "source": []
  },
  {
   "cell_type": "code",
   "execution_count": null,
   "id": "f7ceb16e-fbce-4afa-873f-21eac4f23ddb",
   "metadata": {},
   "outputs": [],
   "source": []
  },
  {
   "cell_type": "code",
   "execution_count": null,
   "id": "4ae24dd9-cc4b-4521-a71c-5097ebdfb49e",
   "metadata": {},
   "outputs": [],
   "source": []
  },
  {
   "cell_type": "code",
   "execution_count": null,
   "id": "48f58302-85be-46a8-9a41-6927e73eefda",
   "metadata": {},
   "outputs": [],
   "source": []
  },
  {
   "cell_type": "code",
   "execution_count": null,
   "id": "f37b6644-fbf5-4340-9703-e1e92e3c7c9a",
   "metadata": {},
   "outputs": [],
   "source": []
  },
  {
   "cell_type": "code",
   "execution_count": null,
   "id": "4ca9b290-c399-4239-9d1d-afad450834fa",
   "metadata": {},
   "outputs": [],
   "source": []
  },
  {
   "cell_type": "code",
   "execution_count": null,
   "id": "fb6d9285-d215-422a-a74f-ac0a4c2d9540",
   "metadata": {},
   "outputs": [],
   "source": []
  },
  {
   "cell_type": "code",
   "execution_count": null,
   "id": "6563e933-7647-4701-8cc2-fe931f2cdd6f",
   "metadata": {},
   "outputs": [],
   "source": []
  },
  {
   "cell_type": "code",
   "execution_count": null,
   "id": "dd6e02fc-1ad1-4a6b-8a5b-57686013913e",
   "metadata": {},
   "outputs": [],
   "source": []
  },
  {
   "cell_type": "code",
   "execution_count": null,
   "id": "c0c5723e-e0d3-48dd-abbd-e0ea129a23f9",
   "metadata": {},
   "outputs": [],
   "source": []
  },
  {
   "cell_type": "code",
   "execution_count": null,
   "id": "e9655624-e572-4862-a1d0-b35ccdb22b1f",
   "metadata": {},
   "outputs": [],
   "source": []
  },
  {
   "cell_type": "code",
   "execution_count": null,
   "id": "f7ff5a8e-56ba-4d1f-be10-91a66c31675f",
   "metadata": {},
   "outputs": [],
   "source": []
  },
  {
   "cell_type": "code",
   "execution_count": null,
   "id": "ee587454-fbf5-452c-a263-6cec060b486c",
   "metadata": {},
   "outputs": [],
   "source": []
  },
  {
   "cell_type": "code",
   "execution_count": null,
   "id": "0573bb68-2188-45c6-bb87-eb985d2d27bb",
   "metadata": {},
   "outputs": [],
   "source": []
  },
  {
   "cell_type": "code",
   "execution_count": null,
   "id": "b4e7b93d-d6fc-4dc3-af62-de277f18e1d3",
   "metadata": {},
   "outputs": [],
   "source": []
  },
  {
   "cell_type": "code",
   "execution_count": null,
   "id": "662ae509-ab57-4de8-bdd4-0241d403bb88",
   "metadata": {},
   "outputs": [],
   "source": []
  },
  {
   "cell_type": "code",
   "execution_count": null,
   "id": "1d671be7-9fd2-49f1-a538-ae490a392863",
   "metadata": {},
   "outputs": [],
   "source": []
  },
  {
   "cell_type": "code",
   "execution_count": null,
   "id": "a239c9a4-6a36-4e48-8f6b-5e7c4b7c8701",
   "metadata": {},
   "outputs": [],
   "source": []
  },
  {
   "cell_type": "code",
   "execution_count": null,
   "id": "3944f598-5552-45b7-a1e8-8ebc08ea83ba",
   "metadata": {},
   "outputs": [],
   "source": []
  }
 ],
 "metadata": {
  "kernelspec": {
   "display_name": "Python 3 (ipykernel)",
   "language": "python",
   "name": "python3"
  },
  "language_info": {
   "codemirror_mode": {
    "name": "ipython",
    "version": 3
   },
   "file_extension": ".py",
   "mimetype": "text/x-python",
   "name": "python",
   "nbconvert_exporter": "python",
   "pygments_lexer": "ipython3",
   "version": "3.12.4"
  }
 },
 "nbformat": 4,
 "nbformat_minor": 5
}
