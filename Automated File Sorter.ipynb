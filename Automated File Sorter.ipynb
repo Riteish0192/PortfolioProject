{
 "cells": [
  {
   "cell_type": "markdown",
   "id": "f6c47b84-417e-4dd4-87ed-62b9e8dfcead",
   "metadata": {},
   "source": [
    "# Automated File Sorter in File Explorer"
   ]
  },
  {
   "cell_type": "code",
   "execution_count": 34,
   "id": "c6bae67c-4ce0-44f0-a9fd-ff40c3d32485",
   "metadata": {},
   "outputs": [],
   "source": [
    "import os, shutil"
   ]
  },
  {
   "cell_type": "code",
   "execution_count": 35,
   "id": "97531c28-ad8a-4d27-bc3d-3668f6ea6c17",
   "metadata": {},
   "outputs": [],
   "source": [
    "path = r\"C:/Users/Lenovo/Downloads/Python automated file sorter/\""
   ]
  },
  {
   "cell_type": "code",
   "execution_count": 36,
   "id": "7a085358-1cc3-4c4c-b5c0-77e21bbdd98a",
   "metadata": {},
   "outputs": [],
   "source": [
    "file_name = os.listdir(path)"
   ]
  },
  {
   "cell_type": "code",
   "execution_count": 37,
   "id": "c1f22e4c-9b80-4a7c-8f15-c4a3238a3069",
   "metadata": {},
   "outputs": [],
   "source": [
    "folder_names = ['image files', 'excel files', 'text files', 'word files']\n",
    "\n",
    "\n",
    "for loop in range(0,4):\n",
    "    if not os.path.exists(path + folder_names[loop]):\n",
    "        os.makedirs(path + folder_names[loop])  \n",
    "\n",
    "for file in file_name:\n",
    "    if \".png\" in file and not os.path.exists(path + \"image files/\" + file):\n",
    "        shutil.move(path + file, path + \"image files/\" + file)\n",
    "    elif \".xlsx\" in file and not os.path.exists(path + \"excel files/\" + file):\n",
    "        shutil.move(path + file, path + \"excel files/\" + file)\n",
    "    elif \".txt\" in file and not os.path.exists(path + \"text files/\" + file):\n",
    "        shutil.move(path + file, path + \"text files/\" + file)\n",
    "    elif \".docx\" in file and not os.path.exists(path + \"word files/\" + file):\n",
    "        shutil.move(path + file, path + \"word files/\" + file)"
   ]
  },
  {
   "cell_type": "code",
   "execution_count": 33,
   "id": "2ecb7287-4300-4919-9b97-ca01711424d3",
   "metadata": {},
   "outputs": [],
   "source": []
  },
  {
   "cell_type": "code",
   "execution_count": null,
   "id": "834dddab-159d-4d65-bc99-191770543bff",
   "metadata": {},
   "outputs": [],
   "source": []
  },
  {
   "cell_type": "code",
   "execution_count": null,
   "id": "00847d1a-57c7-4e62-be49-60f51dd83952",
   "metadata": {},
   "outputs": [],
   "source": []
  },
  {
   "cell_type": "code",
   "execution_count": null,
   "id": "c8b7c12a-e9db-4c94-8c6b-a0d2741ea7f1",
   "metadata": {},
   "outputs": [],
   "source": []
  },
  {
   "cell_type": "code",
   "execution_count": null,
   "id": "f890d030-7e61-4bec-a237-2fc91e230843",
   "metadata": {},
   "outputs": [],
   "source": []
  },
  {
   "cell_type": "code",
   "execution_count": null,
   "id": "9dcad1af-140b-40bb-842c-3566a95dd674",
   "metadata": {},
   "outputs": [],
   "source": []
  }
 ],
 "metadata": {
  "kernelspec": {
   "display_name": "Python 3 (ipykernel)",
   "language": "python",
   "name": "python3"
  },
  "language_info": {
   "codemirror_mode": {
    "name": "ipython",
    "version": 3
   },
   "file_extension": ".py",
   "mimetype": "text/x-python",
   "name": "python",
   "nbconvert_exporter": "python",
   "pygments_lexer": "ipython3",
   "version": "3.12.4"
  }
 },
 "nbformat": 4,
 "nbformat_minor": 5
}
